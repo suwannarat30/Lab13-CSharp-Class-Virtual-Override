{
 "cells": [
  {
   "cell_type": "markdown",
   "metadata": {},
   "source": [
    "# Lab 13 Exercise 5"
   ]
  },
  {
   "cell_type": "markdown",
   "metadata": {},
   "source": [
    "## Polymorphism กับ List ของ Object"
   ]
  },
  {
   "cell_type": "markdown",
   "metadata": {},
   "source": [
    "เมื่อเรามี List ที่เก็บอ็อบเจกต์ที่สืบทอดจาก base class เดียวกัน หรือ implement interface เดียวกัน Polymorphism จะช่วยให้เราสามารถเรียกเมธอดของอ็อบเจกต์แต่ละตัวใน List ได้ โดยที่ไม่ต้องรู้ชนิดที่แน่นอนของอ็อบเจกต์นั้น ๆ\n",
    "\n",
    "การใช้ Polymorphism ร่วมกับ List ช่วยเพิ่มความยืดหยุ่นในการเขียนโปรแกรม ทำให้เราสามารถเพิ่มอ็อบเจกต์ชนิดใหม่ๆ เข้าไปใน List ได้โดยไม่ต้องแก้ไขโค้ดที่ใช้ในการประมวลผล List นั้น"
   ]
  },
  {
   "cell_type": "markdown",
   "metadata": {},
   "source": [
    "1.สร้าง console application project ชื่อ Lab09_Ex05"
   ]
  },
  {
   "cell_type": "markdown",
   "metadata": {},
   "source": [
    "2.เปลี่ยน code ให้เป็นดังต่อไปนี้\n",
    "\n",
    "```csharp\n",
    "public abstract class Shape\n",
    "{\n",
    "    public abstract void Draw();\n",
    "}\n",
    "\n",
    "public class Circle : Shape\n",
    "{\n",
    "    public override void Draw()\n",
    "    {\n",
    "        Console.WriteLine(\"Drawing a circle\");\n",
    "    }\n",
    "}\n",
    "\n",
    "public class Rectangle : Shape\n",
    "{\n",
    "    public override void Draw()\n",
    "    {\n",
    "        Console.WriteLine(\"Drawing a rectangle\");\n",
    "    }\n",
    "}\n",
    "\n",
    "List<Shape> shapes = new List<Shape>();\n",
    "shapes.Add(new Circle());\n",
    "shapes.Add(new Rectangle());\n",
    "shapes.Add(new Circle());\n",
    "\n",
    "foreach (Shape shape in shapes)\n",
    "{\n",
    "    shape.Draw();\n",
    "}\n",
    "```"
   ]
  },
  {
   "cell_type": "markdown",
   "metadata": {},
   "source": [
    "3.Build project โดยการใช้คำสั่ง\n",
    "\n",
    "```cmd\n",
    "dotnet build  Lab13_Ex03\n",
    "```\n",
    "\n",
    "ถ้ามีที่ผิดพลาดในโปรแกรม ให้แก้ไขให้ถูกต้อง\n",
    "\n"
   ]
  },
  {
   "cell_type": "markdown",
   "metadata": {},
   "source": [
    "4.บันทึกผลที่ได้จากการรันคำสั่งในข้อ 3\n",
    "\n"
   ]
  },
  {
   "cell_type": "markdown",
   "metadata": {},
   "source": [
    "5.Run project โดยการใช้คำสั่ง\n",
    "\n",
    "```cmd\n",
    "dotnet run --project Lab13_Ex03\n",
    "```\n",
    "\n"
   ]
  },
  {
   "cell_type": "markdown",
   "metadata": {},
   "source": [
    "6.บันทึกผลที่ได้จากการรันคำสั่งในข้อ 5\n"
   ]
  },
  {
   "cell_type": "markdown",
   "metadata": {},
   "source": [
    "Drawing a circle\n",
    "\n",
    "Drawing a rectangle\n",
    "\n",
    "Drawing a circle"
   ]
  },
  {
   "cell_type": "markdown",
   "metadata": {},
   "source": [
    "7.อธิบายสิ่งที่พบในการทดลอง (การส่ง object ของ derived class เป็น parameter ของ method ที่รับใน base class)\n"
   ]
  },
  {
   "cell_type": "markdown",
   "metadata": {},
   "source": [
    "การใช้ abstract classes method overriding และ Polymorphism เพื่อสร้างโปรแกรมที่สามารถจัดการกับหลายชนิดของรูปร่าง เช่น วงกลมและสี่เหลี่ยม โดยใช้เมธอด Draw() ที่มีพฤติกรรมแตกต่างกันในแต่ละคลาสลูก"
   ]
  }
 ],
 "metadata": {
  "kernelspec": {
   "display_name": ".NET (C#)",
   "language": "C#",
   "name": ".net-csharp"
  },
  "polyglot_notebook": {
   "kernelInfo": {
    "defaultKernelName": "csharp",
    "items": [
     {
      "aliases": [],
      "languageName": "csharp",
      "name": "csharp"
     }
    ]
   }
  }
 },
 "nbformat": 4,
 "nbformat_minor": 2
}
