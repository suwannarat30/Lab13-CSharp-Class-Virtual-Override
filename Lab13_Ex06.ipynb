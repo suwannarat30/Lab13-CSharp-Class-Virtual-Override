{
 "cells": [
  {
   "cell_type": "markdown",
   "metadata": {},
   "source": [
    "# Lab 13 Exercise 1"
   ]
  },
  {
   "cell_type": "markdown",
   "metadata": {},
   "source": [
    "## Polymorphism กับ Constructor"
   ]
  },
  {
   "cell_type": "markdown",
   "metadata": {},
   "source": [
    "โดยทั่วไปแล้ว Polymorphism ไม่ได้ถูกใช้โดยตรงกับ Constructor ในลักษณะเดียวกับที่ใช้กับเมธอดปกติ นั่นคือ Constructor ไม่สามารถถูก override (แทนที่) ใน derived class (คลาสลูก) ได้ อย่างไรก็ตาม polymorphism สามารถมีผลกระทบต่อพฤติกรรมของ Constructor ผ่านการสืบทอด (inheritance) และการเรียก Constructor ของ base class (คลาสแม่)"
   ]
  },
  {
   "cell_type": "markdown",
   "metadata": {},
   "source": [
    "### การเรียก Constructor ของ Base Class\n",
    "\n",
    "- เมื่อมีการสร้างอ็อบเจกต์ของ derived class นั้น Constructor ของ base class จะถูกเรียกใช้ก่อนเสมอ \n",
    "\n",
    "- derived class สามารถเรียก Constructor ของ base class โดยใช้คำสำคัญ base ในภาษา C# หรือ super ในภาษา Java\n",
    "\n",
    "- การเรียก Constructor ของ base class ช่วยให้ derived class สามารถกำหนดค่าเริ่มต้นให้กับ Properties ที่สืบทอดมาจาก base class ได้\n",
    "\n",
    "- Constructor สามารถถูก overloaded ได้, ซึ่งหมายความว่าคลาสสามารถมี Constructor หลาย Constructor ที่มีพารามิเตอร์แตกต่างกัน\n",
    "\n",
    "- Constructor Overloading นี้เป็นการทำงานของ Polymorphism ชนิดหนึ่ง เรียกว่า Compile-Time Polymorphism หรือ Static Polymorphism"
   ]
  },
  {
   "cell_type": "markdown",
   "metadata": {},
   "source": [
    "1.สร้าง console application project ชื่อ Lab09_Ex06"
   ]
  },
  {
   "cell_type": "markdown",
   "metadata": {},
   "source": [
    "2.เปลี่ยน code ให้เป็นดังต่อไปนี้\n",
    "\n",
    "```csharp\n",
    "public class Animal\n",
    "{\n",
    "    public string Name { get; set; }\n",
    "\n",
    "    public Animal(string name)\n",
    "    {\n",
    "        Name = name;\n",
    "        Console.WriteLine($\"Animal Constructor: {Name}\");\n",
    "    }\n",
    "}\n",
    "\n",
    "public class Dog : Animal\n",
    "{\n",
    "    public string Breed { get; set; }\n",
    "\n",
    "    public Dog(string name, string breed) : base(name)\n",
    "    {\n",
    "        Breed = breed;\n",
    "        Console.WriteLine($\"Dog Constructor: {Name}, {Breed}\");\n",
    "    }\n",
    "}\n",
    "\n",
    "Dog dog = new Dog(\"Buddy\", \"Golden Retriever\");\n",
    "```"
   ]
  },
  {
   "cell_type": "markdown",
   "metadata": {},
   "source": [
    "3.Build project โดยการใช้คำสั่ง\n",
    "\n",
    "```cmd\n",
    "dotnet build  Lab13_Ex03\n",
    "```\n",
    "\n",
    "ถ้ามีที่ผิดพลาดในโปรแกรม ให้แก้ไขให้ถูกต้อง\n",
    "\n"
   ]
  },
  {
   "cell_type": "markdown",
   "metadata": {},
   "source": [
    "4.บันทึกผลที่ได้จากการรันคำสั่งในข้อ 3\n",
    "\n"
   ]
  },
  {
   "cell_type": "markdown",
   "metadata": {},
   "source": [
    "error"
   ]
  },
  {
   "cell_type": "markdown",
   "metadata": {},
   "source": [
    "5.Run project โดยการใช้คำสั่ง\n",
    "\n",
    "```cmd\n",
    "dotnet run --project Lab13_Ex03\n",
    "```\n",
    "\n"
   ]
  },
  {
   "cell_type": "markdown",
   "metadata": {},
   "source": [
    "6.บันทึกผลที่ได้จากการรันคำสั่งในข้อ 5\n"
   ]
  },
  {
   "cell_type": "markdown",
   "metadata": {},
   "source": [
    "Animal Constructor: Buddy\n",
    "Dog Constructor: Buddy, Golden Retriever"
   ]
  },
  {
   "cell_type": "markdown",
   "metadata": {},
   "source": [
    "7.อธิบายสิ่งที่พบในการทดลอง (การส่ง object ของ derived class เป็น parameter ของ method ที่รับใน base class)\n"
   ]
  },
  {
   "cell_type": "markdown",
   "metadata": {},
   "source": [
    "การส่งอ็อบเจ็กต์ของคลาสลูกให้คลาสแม่ช่วยให้โค้ดยืดหยุ่นและสามารถรองรับอ็อบเจ็กต์จากหลายๆคลาสได้ง่ายขึ้น"
   ]
  }
 ],
 "metadata": {
  "kernelspec": {
   "display_name": ".NET (C#)",
   "language": "C#",
   "name": ".net-csharp"
  },
  "polyglot_notebook": {
   "kernelInfo": {
    "defaultKernelName": "csharp",
    "items": [
     {
      "aliases": [],
      "languageName": "csharp",
      "name": "csharp"
     }
    ]
   }
  }
 },
 "nbformat": 4,
 "nbformat_minor": 2
}
